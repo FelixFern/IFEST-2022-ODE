{
 "cells": [
  {
   "cell_type": "markdown",
   "metadata": {},
   "source": [
    "# IFEST UNPAD - Data Analysis Competition"
   ]
  },
  {
   "cell_type": "markdown",
   "metadata": {},
   "source": [
    "## Library"
   ]
  },
  {
   "cell_type": "code",
   "execution_count": 50,
   "metadata": {},
   "outputs": [],
   "source": [
    "import numpy as np\n",
    "import pandas as pd\n",
    "import matplotlib.pyplot as plt\n",
    "import missingno as msno\n",
    "%matplotlib inline"
   ]
  },
  {
   "cell_type": "markdown",
   "metadata": {},
   "source": [
    "## Initial Setup"
   ]
  },
  {
   "cell_type": "markdown",
   "metadata": {},
   "source": [
    "Reading CSV"
   ]
  },
  {
   "cell_type": "code",
   "execution_count": 51,
   "metadata": {},
   "outputs": [],
   "source": [
    "df = pd.read_csv('Data - Kualifikasi.csv', sep=';')"
   ]
  },
  {
   "cell_type": "code",
   "execution_count": 52,
   "metadata": {},
   "outputs": [
    {
     "data": {
      "text/html": [
       "<div>\n",
       "<style scoped>\n",
       "    .dataframe tbody tr th:only-of-type {\n",
       "        vertical-align: middle;\n",
       "    }\n",
       "\n",
       "    .dataframe tbody tr th {\n",
       "        vertical-align: top;\n",
       "    }\n",
       "\n",
       "    .dataframe thead th {\n",
       "        text-align: right;\n",
       "    }\n",
       "</style>\n",
       "<table border=\"1\" class=\"dataframe\">\n",
       "  <thead>\n",
       "    <tr style=\"text-align: right;\">\n",
       "      <th></th>\n",
       "      <th>Nama</th>\n",
       "      <th>Gender</th>\n",
       "      <th>Tinggal_Dengan</th>\n",
       "      <th>Status_Kerja</th>\n",
       "      <th>Biaya</th>\n",
       "      <th>Tgl_Daftar_Kuliah</th>\n",
       "      <th>Alamat</th>\n",
       "      <th>UKM</th>\n",
       "      <th>Organisasi_Kampus</th>\n",
       "      <th>Lama_Kuliah</th>\n",
       "      <th>Fakultas</th>\n",
       "    </tr>\n",
       "  </thead>\n",
       "  <tbody>\n",
       "    <tr>\n",
       "      <th>0</th>\n",
       "      <td>Abbey Butler</td>\n",
       "      <td>Pria</td>\n",
       "      <td>Kos</td>\n",
       "      <td>Belum</td>\n",
       "      <td>Beasiswa</td>\n",
       "      <td>2008</td>\n",
       "      <td>Tangerang</td>\n",
       "      <td>UKM_3</td>\n",
       "      <td>Ya</td>\n",
       "      <td>3,5</td>\n",
       "      <td>DKV</td>\n",
       "    </tr>\n",
       "    <tr>\n",
       "      <th>1</th>\n",
       "      <td>Abbey Carpenter</td>\n",
       "      <td>Wanita</td>\n",
       "      <td>NaN</td>\n",
       "      <td>Belum</td>\n",
       "      <td>NaN</td>\n",
       "      <td>2009</td>\n",
       "      <td>Bekasi</td>\n",
       "      <td>UKM_2</td>\n",
       "      <td>Tidak</td>\n",
       "      <td>4</td>\n",
       "      <td>FIKOM</td>\n",
       "    </tr>\n",
       "    <tr>\n",
       "      <th>2</th>\n",
       "      <td>Abbey Dubois</td>\n",
       "      <td>Wanita</td>\n",
       "      <td>NaN</td>\n",
       "      <td>Bekerja</td>\n",
       "      <td>Beasiswa</td>\n",
       "      <td>2008</td>\n",
       "      <td>Serang</td>\n",
       "      <td>UKM_4</td>\n",
       "      <td>Tidak</td>\n",
       "      <td>4,5</td>\n",
       "      <td>FIKOM</td>\n",
       "    </tr>\n",
       "    <tr>\n",
       "      <th>3</th>\n",
       "      <td>Abbey Gosling</td>\n",
       "      <td>Wanita</td>\n",
       "      <td>Orang Tua</td>\n",
       "      <td>Belum</td>\n",
       "      <td>Beasiswa</td>\n",
       "      <td>2009</td>\n",
       "      <td>Serang</td>\n",
       "      <td>UKM_1</td>\n",
       "      <td>Tidak</td>\n",
       "      <td>5,5</td>\n",
       "      <td>DKV</td>\n",
       "    </tr>\n",
       "    <tr>\n",
       "      <th>4</th>\n",
       "      <td>Abbey Logan</td>\n",
       "      <td>Wanita</td>\n",
       "      <td>Orang Tua</td>\n",
       "      <td>Bekerja</td>\n",
       "      <td>NaN</td>\n",
       "      <td>2009</td>\n",
       "      <td>Bekasi</td>\n",
       "      <td>Tidak</td>\n",
       "      <td>Ya</td>\n",
       "      <td>6,5</td>\n",
       "      <td>DKV</td>\n",
       "    </tr>\n",
       "  </tbody>\n",
       "</table>\n",
       "</div>"
      ],
      "text/plain": [
       "              Nama  Gender Tinggal_Dengan Status_Kerja     Biaya  \\\n",
       "0     Abbey Butler    Pria            Kos        Belum  Beasiswa   \n",
       "1  Abbey Carpenter  Wanita            NaN        Belum       NaN   \n",
       "2     Abbey Dubois  Wanita            NaN      Bekerja  Beasiswa   \n",
       "3    Abbey Gosling  Wanita      Orang Tua        Belum  Beasiswa   \n",
       "4      Abbey Logan  Wanita      Orang Tua      Bekerja       NaN   \n",
       "\n",
       "   Tgl_Daftar_Kuliah     Alamat    UKM Organisasi_Kampus Lama_Kuliah Fakultas  \n",
       "0               2008  Tangerang  UKM_3                Ya         3,5      DKV  \n",
       "1               2009     Bekasi  UKM_2             Tidak           4    FIKOM  \n",
       "2               2008     Serang  UKM_4             Tidak         4,5    FIKOM  \n",
       "3               2009     Serang  UKM_1             Tidak         5,5      DKV  \n",
       "4               2009     Bekasi  Tidak                Ya         6,5      DKV  "
      ]
     },
     "execution_count": 52,
     "metadata": {},
     "output_type": "execute_result"
    }
   ],
   "source": [
    "df.head()"
   ]
  },
  {
   "cell_type": "markdown",
   "metadata": {},
   "source": [
    "## Data Cleansing"
   ]
  },
  {
   "cell_type": "code",
   "execution_count": 53,
   "metadata": {},
   "outputs": [
    {
     "name": "stdout",
     "output_type": "stream",
     "text": [
      "<class 'pandas.core.frame.DataFrame'>\n",
      "RangeIndex: 11499 entries, 0 to 11498\n",
      "Data columns (total 11 columns):\n",
      " #   Column             Non-Null Count  Dtype \n",
      "---  ------             --------------  ----- \n",
      " 0   Nama               11499 non-null  object\n",
      " 1   Gender             11499 non-null  object\n",
      " 2   Tinggal_Dengan     7517 non-null   object\n",
      " 3   Status_Kerja       11499 non-null  object\n",
      " 4   Biaya              7720 non-null   object\n",
      " 5   Tgl_Daftar_Kuliah  11499 non-null  int64 \n",
      " 6   Alamat             11499 non-null  object\n",
      " 7   UKM                11499 non-null  object\n",
      " 8   Organisasi_Kampus  11499 non-null  object\n",
      " 9   Lama_Kuliah        11499 non-null  object\n",
      " 10  Fakultas           11499 non-null  object\n",
      "dtypes: int64(1), object(10)\n",
      "memory usage: 988.3+ KB\n"
     ]
    }
   ],
   "source": [
    "df.info()"
   ]
  },
  {
   "cell_type": "markdown",
   "metadata": {},
   "source": [
    "Null data plot"
   ]
  },
  {
   "cell_type": "code",
   "execution_count": 54,
   "metadata": {},
   "outputs": [
    {
     "data": {
      "text/plain": [
       "Nama                    0\n",
       "Gender                  0\n",
       "Tinggal_Dengan       3982\n",
       "Status_Kerja            0\n",
       "Biaya                3779\n",
       "Tgl_Daftar_Kuliah       0\n",
       "Alamat                  0\n",
       "UKM                     0\n",
       "Organisasi_Kampus       0\n",
       "Lama_Kuliah             0\n",
       "Fakultas                0\n",
       "dtype: int64"
      ]
     },
     "execution_count": 54,
     "metadata": {},
     "output_type": "execute_result"
    }
   ],
   "source": [
    "df.isna().sum()"
   ]
  },
  {
   "cell_type": "code",
   "execution_count": 55,
   "metadata": {},
   "outputs": [
    {
     "data": {
      "text/plain": [
       "<AxesSubplot:>"
      ]
     },
     "execution_count": 55,
     "metadata": {},
     "output_type": "execute_result"
    },
    {
     "data": {
      "image/png": "[encoded data removed]",
      "text/plain": [
       "<Figure size 1800x720 with 2 Axes>"
      ]
     },
     "metadata": {
      "needs_background": "light"
     },
     "output_type": "display_data"
    }
   ],
   "source": [
    "msno.matrix(df)"
   ]
  },
  {
   "cell_type": "markdown",
   "metadata": {},
   "source": [
    "### Checking unique data of each label"
   ]
  },
  {
   "cell_type": "code",
   "execution_count": 56,
   "metadata": {},
   "outputs": [
    {
     "name": "stdout",
     "output_type": "stream",
     "text": [
      "Nama:\n",
      "['Abbey Butler' 'Abbey Carpenter' 'Abbey Dubois' ... 'Zoe Ogilvy'\n",
      " 'Zoe Thompson' 'Zoe Varndell']\n",
      "Gender:\n",
      "['Pria' 'Wanita']\n",
      "Tinggal_Dengan:\n",
      "['Kos' nan 'Orang Tua']\n",
      "Status_Kerja:\n",
      "['Belum' 'Bekerja']\n",
      "Biaya:\n",
      "['Beasiswa' nan 'Orang Tua']\n",
      "Tgl_Daftar_Kuliah:\n",
      "[2008 2009 2007]\n",
      "Alamat:\n",
      "['Tangerang' 'Bekasi' 'Serang' 'Bogor' 'Jakarta' 'Karawang']\n",
      "UKM:\n",
      "['UKM_3' 'UKM_2' 'UKM_4' 'UKM_1' 'Tidak']\n",
      "Organisasi_Kampus:\n",
      "['Ya' 'Tidak']\n",
      "Lama_Kuliah:\n",
      "['3,5' '4' '4,5' '5,5' '6,5' '5' '6' '7']\n",
      "Fakultas:\n",
      "['DKV' 'FIKOM' 'FISIP' 'FTI' 'FT']\n"
     ]
    }
   ],
   "source": [
    "for label in df:\n",
    "    print(label + ':')\n",
    "    print(df[label].unique())"
   ]
  },
  {
   "cell_type": "markdown",
   "metadata": {},
   "source": [
    "Handling null data"
   ]
  },
  {
   "cell_type": "code",
   "execution_count": 60,
   "metadata": {},
   "outputs": [
    {
     "ename": "KeyError",
     "evalue": "'Biaya'",
     "output_type": "error",
     "traceback": [
      "\u001b[1;31m---------------------------------------------------------------------------\u001b[0m",
      "\u001b[1;31mKeyError\u001b[0m                                  Traceback (most recent call last)",
      "\u001b[1;32m~\\AppData\\Local\\Temp/ipykernel_15864/3285257767.py\u001b[0m in \u001b[0;36m<module>\u001b[1;34m\u001b[0m\n\u001b[0;32m      1\u001b[0m \u001b[0mdf\u001b[0m \u001b[1;33m=\u001b[0m \u001b[0mdf\u001b[0m\u001b[1;33m[\u001b[0m\u001b[1;34m'Tinggal_Dengan'\u001b[0m\u001b[1;33m]\u001b[0m\u001b[1;33m.\u001b[0m\u001b[0mfillna\u001b[0m\u001b[1;33m(\u001b[0m\u001b[1;34m'Sendiri'\u001b[0m\u001b[1;33m)\u001b[0m\u001b[1;33m\u001b[0m\u001b[1;33m\u001b[0m\u001b[0m\n\u001b[1;32m----> 2\u001b[1;33m \u001b[0mdf\u001b[0m \u001b[1;33m=\u001b[0m \u001b[0mdf\u001b[0m\u001b[1;33m[\u001b[0m\u001b[1;34m'Biaya'\u001b[0m\u001b[1;33m]\u001b[0m\u001b[1;33m.\u001b[0m\u001b[0mfillna\u001b[0m\u001b[1;33m(\u001b[0m\u001b[1;34m'Mandiri'\u001b[0m\u001b[1;33m)\u001b[0m\u001b[1;33m\u001b[0m\u001b[1;33m\u001b[0m\u001b[0m\n\u001b[0m",
      "\u001b[1;32mc:\\Users\\acer\\AppData\\Local\\Programs\\Python\\Python39\\lib\\site-packages\\pandas\\core\\series.py\u001b[0m in \u001b[0;36m__getitem__\u001b[1;34m(self, key)\u001b[0m\n\u001b[0;32m    880\u001b[0m \u001b[1;33m\u001b[0m\u001b[0m\n\u001b[0;32m    881\u001b[0m         \u001b[1;32melif\u001b[0m \u001b[0mkey_is_scalar\u001b[0m\u001b[1;33m:\u001b[0m\u001b[1;33m\u001b[0m\u001b[1;33m\u001b[0m\u001b[0m\n\u001b[1;32m--> 882\u001b[1;33m             \u001b[1;32mreturn\u001b[0m \u001b[0mself\u001b[0m\u001b[1;33m.\u001b[0m\u001b[0m_get_value\u001b[0m\u001b[1;33m(\u001b[0m\u001b[0mkey\u001b[0m\u001b[1;33m)\u001b[0m\u001b[1;33m\u001b[0m\u001b[1;33m\u001b[0m\u001b[0m\n\u001b[0m\u001b[0;32m    883\u001b[0m \u001b[1;33m\u001b[0m\u001b[0m\n\u001b[0;32m    884\u001b[0m         \u001b[1;32mif\u001b[0m \u001b[0mis_hashable\u001b[0m\u001b[1;33m(\u001b[0m\u001b[0mkey\u001b[0m\u001b[1;33m)\u001b[0m\u001b[1;33m:\u001b[0m\u001b[1;33m\u001b[0m\u001b[1;33m\u001b[0m\u001b[0m\n",
      "\u001b[1;32mc:\\Users\\acer\\AppData\\Local\\Programs\\Python\\Python39\\lib\\site-packages\\pandas\\core\\series.py\u001b[0m in \u001b[0;36m_get_value\u001b[1;34m(self, label, takeable)\u001b[0m\n\u001b[0;32m    987\u001b[0m \u001b[1;33m\u001b[0m\u001b[0m\n\u001b[0;32m    988\u001b[0m         \u001b[1;31m# Similar to Index.get_value, but we do not fall back to positional\u001b[0m\u001b[1;33m\u001b[0m\u001b[1;33m\u001b[0m\u001b[1;33m\u001b[0m\u001b[0m\n\u001b[1;32m--> 989\u001b[1;33m         \u001b[0mloc\u001b[0m \u001b[1;33m=\u001b[0m \u001b[0mself\u001b[0m\u001b[1;33m.\u001b[0m\u001b[0mindex\u001b[0m\u001b[1;33m.\u001b[0m\u001b[0mget_loc\u001b[0m\u001b[1;33m(\u001b[0m\u001b[0mlabel\u001b[0m\u001b[1;33m)\u001b[0m\u001b[1;33m\u001b[0m\u001b[1;33m\u001b[0m\u001b[0m\n\u001b[0m\u001b[0;32m    990\u001b[0m         \u001b[1;32mreturn\u001b[0m \u001b[0mself\u001b[0m\u001b[1;33m.\u001b[0m\u001b[0mindex\u001b[0m\u001b[1;33m.\u001b[0m\u001b[0m_get_values_for_loc\u001b[0m\u001b[1;33m(\u001b[0m\u001b[0mself\u001b[0m\u001b[1;33m,\u001b[0m \u001b[0mloc\u001b[0m\u001b[1;33m,\u001b[0m \u001b[0mlabel\u001b[0m\u001b[1;33m)\u001b[0m\u001b[1;33m\u001b[0m\u001b[1;33m\u001b[0m\u001b[0m\n\u001b[0;32m    991\u001b[0m \u001b[1;33m\u001b[0m\u001b[0m\n",
      "\u001b[1;32mc:\\Users\\acer\\AppData\\Local\\Programs\\Python\\Python39\\lib\\site-packages\\pandas\\core\\indexes\\range.py\u001b[0m in \u001b[0;36mget_loc\u001b[1;34m(self, key, method, tolerance)\u001b[0m\n\u001b[0;32m    356\u001b[0m                 \u001b[1;32mexcept\u001b[0m \u001b[0mValueError\u001b[0m \u001b[1;32mas\u001b[0m \u001b[0merr\u001b[0m\u001b[1;33m:\u001b[0m\u001b[1;33m\u001b[0m\u001b[1;33m\u001b[0m\u001b[0m\n\u001b[0;32m    357\u001b[0m                     \u001b[1;32mraise\u001b[0m \u001b[0mKeyError\u001b[0m\u001b[1;33m(\u001b[0m\u001b[0mkey\u001b[0m\u001b[1;33m)\u001b[0m \u001b[1;32mfrom\u001b[0m \u001b[0merr\u001b[0m\u001b[1;33m\u001b[0m\u001b[1;33m\u001b[0m\u001b[0m\n\u001b[1;32m--> 358\u001b[1;33m             \u001b[1;32mraise\u001b[0m \u001b[0mKeyError\u001b[0m\u001b[1;33m(\u001b[0m\u001b[0mkey\u001b[0m\u001b[1;33m)\u001b[0m\u001b[1;33m\u001b[0m\u001b[1;33m\u001b[0m\u001b[0m\n\u001b[0m\u001b[0;32m    359\u001b[0m         \u001b[1;32mreturn\u001b[0m \u001b[0msuper\u001b[0m\u001b[1;33m(\u001b[0m\u001b[1;33m)\u001b[0m\u001b[1;33m.\u001b[0m\u001b[0mget_loc\u001b[0m\u001b[1;33m(\u001b[0m\u001b[0mkey\u001b[0m\u001b[1;33m,\u001b[0m \u001b[0mmethod\u001b[0m\u001b[1;33m=\u001b[0m\u001b[0mmethod\u001b[0m\u001b[1;33m,\u001b[0m \u001b[0mtolerance\u001b[0m\u001b[1;33m=\u001b[0m\u001b[0mtolerance\u001b[0m\u001b[1;33m)\u001b[0m\u001b[1;33m\u001b[0m\u001b[1;33m\u001b[0m\u001b[0m\n\u001b[0;32m    360\u001b[0m \u001b[1;33m\u001b[0m\u001b[0m\n",
      "\u001b[1;31mKeyError\u001b[0m: 'Biaya'"
     ]
    }
   ],
   "source": [
    "df['Tinggal_Dengan'] = df['Tinggal_Dengan'].fillna('Sendiri')\n",
    "df['Biaya'] = df['Biaya'].fillna('Mandiri')"
   ]
  },
  {
   "cell_type": "code",
   "execution_count": 59,
   "metadata": {},
   "outputs": [
    {
     "data": {
      "text/plain": [
       "Nama                 False\n",
       "Gender               False\n",
       "Tinggal_Dengan        True\n",
       "Status_Kerja         False\n",
       "Biaya                 True\n",
       "Tgl_Daftar_Kuliah    False\n",
       "Alamat               False\n",
       "UKM                  False\n",
       "Organisasi_Kampus    False\n",
       "Lama_Kuliah          False\n",
       "Fakultas             False\n",
       "dtype: bool"
      ]
     },
     "execution_count": 59,
     "metadata": {},
     "output_type": "execute_result"
    }
   ],
   "source": [
    "df.isnull().any()"
   ]
  },
  {
   "cell_type": "markdown",
   "metadata": {},
   "source": [
    "## Data Preparation"
   ]
  },
  {
   "cell_type": "code",
   "execution_count": null,
   "metadata": {},
   "outputs": [],
   "source": []
  }
 ],
 "metadata": {
  "kernelspec": {
   "display_name": "Python 3.9.0 64-bit (system)",
   "language": "python",
   "name": "python3"
  },
  "language_info": {
   "codemirror_mode": {
    "name": "ipython",
    "version": 3
   },
   "file_extension": ".py",
   "mimetype": "text/x-python",
   "name": "python",
   "nbconvert_exporter": "python",
   "pygments_lexer": "ipython3",
   "version": "3.9.0"
  },
  "orig_nbformat": 4,
  "vscode": {
   "interpreter": {
    "hash": "8f5816e6188795d1cc8afa4306b69c5e3a103f064a75e820fe776234e4cf83e8"
   }
  }
 },
 "nbformat": 4,
 "nbformat_minor": 2
}
