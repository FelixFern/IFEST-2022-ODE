{
 "cells": [
  {
   "cell_type": "markdown",
   "metadata": {},
   "source": [
    "# IFEST UNPAD - Data Analysis Competition\n",
    "Anggota Tim : \n",
    "- Jeremy\n",
    "- Gerend Christopher\n",
    "- Jevan Christopher\n",
    "- Felix Fernando\n",
    "\n",
    "Kamus Data\n",
    "\n",
    "1. Nama : Nama Siswa/Mahasiswa\n",
    "2. Gender : Jenis Kelamin\n",
    "3. Bahasa, Inggris, TIK, Matematika, Fisika, Biologi, Geografi, Sosiologi, Antropologi :  Rata-Rata Nilai ketika sekolah\n",
    "4. Extra_Kurikuler : Ekskul yang diikuti ketika sekolah\n",
    "5. Tinggal_Dengen : Tempat Siswa/Mahasiswa tinggal\n",
    "6. Status_Kerja : Apakah siswa/mahasiswa bekerja atau tidak\n",
    "7. Biaya : Biaya kuliah\n",
    "8. Tgl_Daftar_Kuliah : Tahun daftar kuliah\n",
    "9. Alamat : Alamat siswa/mahasiswa\n",
    "10. UKM : Jenis UKM yang diikuti ketika kuliah\n",
    "11. Organisasi_Kampus : Apakah mahasiswa mengikuti organisasi kampus\n",
    "12. Lama_Kuliah : Lama mahasiswa menyelesaikan kuliah (dalam tahun)\n",
    "\n",
    "\n",
    "NA: Tidak ada data"
   ]
  },
  {
   "cell_type": "markdown",
   "metadata": {},
   "source": [
    "## Library"
   ]
  },
  {
   "cell_type": "code",
   "execution_count": 62,
   "metadata": {},
   "outputs": [],
   "source": [
    "import numpy as np\n",
    "import pandas as pd\n",
    "import matplotlib.pyplot as plt\n",
    "import seaborn as sns\n",
    "import missingno as msno\n",
    "%matplotlib inline"
   ]
  },
  {
   "cell_type": "markdown",
   "metadata": {},
   "source": [
    "## Initial Setup"
   ]
  },
  {
   "cell_type": "markdown",
   "metadata": {},
   "source": [
    "Reading CSV"
   ]
  },
  {
   "cell_type": "code",
   "execution_count": 63,
   "metadata": {},
   "outputs": [],
   "source": [
    "df = pd.read_csv('Data - Kualifikasi.csv', sep=';')"
   ]
  },
  {
   "cell_type": "code",
   "execution_count": 64,
   "metadata": {},
   "outputs": [
    {
     "data": {
      "text/html": [
       "<div>\n",
       "<style scoped>\n",
       "    .dataframe tbody tr th:only-of-type {\n",
       "        vertical-align: middle;\n",
       "    }\n",
       "\n",
       "    .dataframe tbody tr th {\n",
       "        vertical-align: top;\n",
       "    }\n",
       "\n",
       "    .dataframe thead th {\n",
       "        text-align: right;\n",
       "    }\n",
       "</style>\n",
       "<table border=\"1\" class=\"dataframe\">\n",
       "  <thead>\n",
       "    <tr style=\"text-align: right;\">\n",
       "      <th></th>\n",
       "      <th>Nama</th>\n",
       "      <th>Gender</th>\n",
       "      <th>Tinggal_Dengan</th>\n",
       "      <th>Status_Kerja</th>\n",
       "      <th>Biaya</th>\n",
       "      <th>Tgl_Daftar_Kuliah</th>\n",
       "      <th>Alamat</th>\n",
       "      <th>UKM</th>\n",
       "      <th>Organisasi_Kampus</th>\n",
       "      <th>Lama_Kuliah</th>\n",
       "      <th>Fakultas</th>\n",
       "    </tr>\n",
       "  </thead>\n",
       "  <tbody>\n",
       "    <tr>\n",
       "      <th>0</th>\n",
       "      <td>Abbey Butler</td>\n",
       "      <td>Pria</td>\n",
       "      <td>Kos</td>\n",
       "      <td>Belum</td>\n",
       "      <td>Beasiswa</td>\n",
       "      <td>2008</td>\n",
       "      <td>Tangerang</td>\n",
       "      <td>UKM_3</td>\n",
       "      <td>Ya</td>\n",
       "      <td>3,5</td>\n",
       "      <td>DKV</td>\n",
       "    </tr>\n",
       "    <tr>\n",
       "      <th>1</th>\n",
       "      <td>Abbey Carpenter</td>\n",
       "      <td>Wanita</td>\n",
       "      <td>NaN</td>\n",
       "      <td>Belum</td>\n",
       "      <td>NaN</td>\n",
       "      <td>2009</td>\n",
       "      <td>Bekasi</td>\n",
       "      <td>UKM_2</td>\n",
       "      <td>Tidak</td>\n",
       "      <td>4</td>\n",
       "      <td>FIKOM</td>\n",
       "    </tr>\n",
       "    <tr>\n",
       "      <th>2</th>\n",
       "      <td>Abbey Dubois</td>\n",
       "      <td>Wanita</td>\n",
       "      <td>NaN</td>\n",
       "      <td>Bekerja</td>\n",
       "      <td>Beasiswa</td>\n",
       "      <td>2008</td>\n",
       "      <td>Serang</td>\n",
       "      <td>UKM_4</td>\n",
       "      <td>Tidak</td>\n",
       "      <td>4,5</td>\n",
       "      <td>FIKOM</td>\n",
       "    </tr>\n",
       "    <tr>\n",
       "      <th>3</th>\n",
       "      <td>Abbey Gosling</td>\n",
       "      <td>Wanita</td>\n",
       "      <td>Orang Tua</td>\n",
       "      <td>Belum</td>\n",
       "      <td>Beasiswa</td>\n",
       "      <td>2009</td>\n",
       "      <td>Serang</td>\n",
       "      <td>UKM_1</td>\n",
       "      <td>Tidak</td>\n",
       "      <td>5,5</td>\n",
       "      <td>DKV</td>\n",
       "    </tr>\n",
       "    <tr>\n",
       "      <th>4</th>\n",
       "      <td>Abbey Logan</td>\n",
       "      <td>Wanita</td>\n",
       "      <td>Orang Tua</td>\n",
       "      <td>Bekerja</td>\n",
       "      <td>NaN</td>\n",
       "      <td>2009</td>\n",
       "      <td>Bekasi</td>\n",
       "      <td>Tidak</td>\n",
       "      <td>Ya</td>\n",
       "      <td>6,5</td>\n",
       "      <td>DKV</td>\n",
       "    </tr>\n",
       "  </tbody>\n",
       "</table>\n",
       "</div>"
      ],
      "text/plain": [
       "              Nama  Gender Tinggal_Dengan Status_Kerja     Biaya  \\\n",
       "0     Abbey Butler    Pria            Kos        Belum  Beasiswa   \n",
       "1  Abbey Carpenter  Wanita            NaN        Belum       NaN   \n",
       "2     Abbey Dubois  Wanita            NaN      Bekerja  Beasiswa   \n",
       "3    Abbey Gosling  Wanita      Orang Tua        Belum  Beasiswa   \n",
       "4      Abbey Logan  Wanita      Orang Tua      Bekerja       NaN   \n",
       "\n",
       "   Tgl_Daftar_Kuliah     Alamat    UKM Organisasi_Kampus Lama_Kuliah Fakultas  \n",
       "0               2008  Tangerang  UKM_3                Ya         3,5      DKV  \n",
       "1               2009     Bekasi  UKM_2             Tidak           4    FIKOM  \n",
       "2               2008     Serang  UKM_4             Tidak         4,5    FIKOM  \n",
       "3               2009     Serang  UKM_1             Tidak         5,5      DKV  \n",
       "4               2009     Bekasi  Tidak                Ya         6,5      DKV  "
      ]
     },
     "execution_count": 64,
     "metadata": {},
     "output_type": "execute_result"
    }
   ],
   "source": [
    "df.head()"
   ]
  },
  {
   "cell_type": "markdown",
   "metadata": {},
   "source": [
    "## Data Cleansing"
   ]
  },
  {
   "cell_type": "code",
   "execution_count": 65,
   "metadata": {},
   "outputs": [
    {
     "name": "stdout",
     "output_type": "stream",
     "text": [
      "<class 'pandas.core.frame.DataFrame'>\n",
      "RangeIndex: 11499 entries, 0 to 11498\n",
      "Data columns (total 11 columns):\n",
      " #   Column             Non-Null Count  Dtype \n",
      "---  ------             --------------  ----- \n",
      " 0   Nama               11499 non-null  object\n",
      " 1   Gender             11499 non-null  object\n",
      " 2   Tinggal_Dengan     7517 non-null   object\n",
      " 3   Status_Kerja       11499 non-null  object\n",
      " 4   Biaya              7720 non-null   object\n",
      " 5   Tgl_Daftar_Kuliah  11499 non-null  int64 \n",
      " 6   Alamat             11499 non-null  object\n",
      " 7   UKM                11499 non-null  object\n",
      " 8   Organisasi_Kampus  11499 non-null  object\n",
      " 9   Lama_Kuliah        11499 non-null  object\n",
      " 10  Fakultas           11499 non-null  object\n",
      "dtypes: int64(1), object(10)\n",
      "memory usage: 988.3+ KB\n"
     ]
    }
   ],
   "source": [
    "df.info()"
   ]
  },
  {
   "cell_type": "markdown",
   "metadata": {},
   "source": [
    "Null data plot"
   ]
  },
  {
   "cell_type": "code",
   "execution_count": 66,
   "metadata": {},
   "outputs": [
    {
     "data": {
      "text/plain": [
       "Nama                    0\n",
       "Gender                  0\n",
       "Tinggal_Dengan       3982\n",
       "Status_Kerja            0\n",
       "Biaya                3779\n",
       "Tgl_Daftar_Kuliah       0\n",
       "Alamat                  0\n",
       "UKM                     0\n",
       "Organisasi_Kampus       0\n",
       "Lama_Kuliah             0\n",
       "Fakultas                0\n",
       "dtype: int64"
      ]
     },
     "execution_count": 66,
     "metadata": {},
     "output_type": "execute_result"
    }
   ],
   "source": [
    "df.isna().sum()"
   ]
  },
  {
   "cell_type": "code",
   "execution_count": 67,
   "metadata": {},
   "outputs": [
    {
     "data": {
      "text/plain": [
       "<AxesSubplot:>"
      ]
     },
     "execution_count": 67,
     "metadata": {},
     "output_type": "execute_result"
    },
    {
     "data": {
      "image/png": "[encoded data removed]",
      "text/plain": [
       "<Figure size 1800x720 with 2 Axes>"
      ]
     },
     "metadata": {
      "needs_background": "light"
     },
     "output_type": "display_data"
    }
   ],
   "source": [
    "msno.matrix(df)"
   ]
  },
  {
   "cell_type": "markdown",
   "metadata": {},
   "source": [
    "### Checking unique data of each label"
   ]
  },
  {
   "cell_type": "code",
   "execution_count": 68,
   "metadata": {},
   "outputs": [
    {
     "name": "stdout",
     "output_type": "stream",
     "text": [
      "Nama:\n",
      "['Abbey Butler' 'Abbey Carpenter' 'Abbey Dubois' ... 'Zoe Ogilvy'\n",
      " 'Zoe Thompson' 'Zoe Varndell']\n",
      "\n",
      "Gender:\n",
      "['Pria' 'Wanita']\n",
      "\n",
      "Tinggal_Dengan:\n",
      "['Kos' nan 'Orang Tua']\n",
      "\n",
      "Status_Kerja:\n",
      "['Belum' 'Bekerja']\n",
      "\n",
      "Biaya:\n",
      "['Beasiswa' nan 'Orang Tua']\n",
      "\n",
      "Tgl_Daftar_Kuliah:\n",
      "[2008 2009 2007]\n",
      "\n",
      "Alamat:\n",
      "['Tangerang' 'Bekasi' 'Serang' 'Bogor' 'Jakarta' 'Karawang']\n",
      "\n",
      "UKM:\n",
      "['UKM_3' 'UKM_2' 'UKM_4' 'UKM_1' 'Tidak']\n",
      "\n",
      "Organisasi_Kampus:\n",
      "['Ya' 'Tidak']\n",
      "\n",
      "Lama_Kuliah:\n",
      "['3,5' '4' '4,5' '5,5' '6,5' '5' '6' '7']\n",
      "\n",
      "Fakultas:\n",
      "['DKV' 'FIKOM' 'FISIP' 'FTI' 'FT']\n",
      "\n"
     ]
    }
   ],
   "source": [
    "for label in df:\n",
    "    print(label + ':')\n",
    "    print(df[label].unique())\n",
    "    print()"
   ]
  },
  {
   "cell_type": "markdown",
   "metadata": {},
   "source": [
    "### Handling null data"
   ]
  },
  {
   "cell_type": "markdown",
   "metadata": {},
   "source": [
    "Asumsi : \n",
    "- Data 'Tinggal_Dengan' yang null, artinya mahasiswa tinggal 'sendiri'\n",
    "- Data 'Biaya' yang null, artinya mahasiswa menggunakan biayanya secara 'mandiri'"
   ]
  },
  {
   "cell_type": "code",
   "execution_count": 69,
   "metadata": {},
   "outputs": [],
   "source": [
    "df['Tinggal_Dengan'] = df['Tinggal_Dengan'].fillna('Sendiri')\n",
    "df['Biaya'] = df['Biaya'].fillna('Mandiri')"
   ]
  },
  {
   "cell_type": "code",
   "execution_count": 70,
   "metadata": {},
   "outputs": [
    {
     "data": {
      "text/plain": [
       "Nama                 False\n",
       "Gender               False\n",
       "Tinggal_Dengan       False\n",
       "Status_Kerja         False\n",
       "Biaya                False\n",
       "Tgl_Daftar_Kuliah    False\n",
       "Alamat               False\n",
       "UKM                  False\n",
       "Organisasi_Kampus    False\n",
       "Lama_Kuliah          False\n",
       "Fakultas             False\n",
       "dtype: bool"
      ]
     },
     "execution_count": 70,
     "metadata": {},
     "output_type": "execute_result"
    }
   ],
   "source": [
    "df.isnull().any()"
   ]
  },
  {
   "cell_type": "markdown",
   "metadata": {},
   "source": [
    "Setting data type for specific label"
   ]
  },
  {
   "cell_type": "code",
   "execution_count": 71,
   "metadata": {},
   "outputs": [],
   "source": [
    "for i in range(len(df)):\n",
    "    df.at[i, 'Lama_Kuliah'] = float(df.at[i, 'Lama_Kuliah'].replace(',', '.')) # Setting to integer\n",
    "    if df.at[i, 'Status_Kerja'] == 'Belum': \n",
    "        df.at[i, 'Status_Kerja'] = False\n",
    "    elif df.at[i, 'Status_Kerja'] == 'Bekerja': \n",
    "        df.at[i, 'Status_Kerja'] = True\n",
    "    if df.at[i, 'Organisasi_Kampus'] == 'Ya': \n",
    "        df.at[i, 'Organisasi_Kampus'] = True\n",
    "    elif df.at[i, 'Organisasi_Kampus'] == 'Tidak': \n",
    "        df.at[i, 'Organisasi_Kampus'] = False        "
   ]
  },
  {
   "cell_type": "code",
   "execution_count": 72,
   "metadata": {},
   "outputs": [],
   "source": [
    "df[\"UKM\"] = df[\"UKM\"].replace({\n",
    "    \"UKM_1\" : \"Olahraga\", \n",
    "    \"UKM_2\" : \"Seni\", \n",
    "    \"UKM_3\" : 'Kewirausahaan',\n",
    "    \"UKM_4\" : 'Keilmuan'\n",
    "    }\n",
    ")"
   ]
  },
  {
   "cell_type": "code",
   "execution_count": 73,
   "metadata": {},
   "outputs": [
    {
     "data": {
      "text/html": [
       "<div>\n",
       "<style scoped>\n",
       "    .dataframe tbody tr th:only-of-type {\n",
       "        vertical-align: middle;\n",
       "    }\n",
       "\n",
       "    .dataframe tbody tr th {\n",
       "        vertical-align: top;\n",
       "    }\n",
       "\n",
       "    .dataframe thead th {\n",
       "        text-align: right;\n",
       "    }\n",
       "</style>\n",
       "<table border=\"1\" class=\"dataframe\">\n",
       "  <thead>\n",
       "    <tr style=\"text-align: right;\">\n",
       "      <th></th>\n",
       "      <th>Nama</th>\n",
       "      <th>Gender</th>\n",
       "      <th>Tinggal_Dengan</th>\n",
       "      <th>Status_Kerja</th>\n",
       "      <th>Biaya</th>\n",
       "      <th>Tgl_Daftar_Kuliah</th>\n",
       "      <th>Alamat</th>\n",
       "      <th>UKM</th>\n",
       "      <th>Organisasi_Kampus</th>\n",
       "      <th>Lama_Kuliah</th>\n",
       "      <th>Fakultas</th>\n",
       "    </tr>\n",
       "  </thead>\n",
       "  <tbody>\n",
       "    <tr>\n",
       "      <th>0</th>\n",
       "      <td>Abbey Butler</td>\n",
       "      <td>Pria</td>\n",
       "      <td>Kos</td>\n",
       "      <td>False</td>\n",
       "      <td>Beasiswa</td>\n",
       "      <td>2008</td>\n",
       "      <td>Tangerang</td>\n",
       "      <td>Kewirausahaan</td>\n",
       "      <td>True</td>\n",
       "      <td>3.5</td>\n",
       "      <td>DKV</td>\n",
       "    </tr>\n",
       "    <tr>\n",
       "      <th>1</th>\n",
       "      <td>Abbey Carpenter</td>\n",
       "      <td>Wanita</td>\n",
       "      <td>Sendiri</td>\n",
       "      <td>False</td>\n",
       "      <td>Mandiri</td>\n",
       "      <td>2009</td>\n",
       "      <td>Bekasi</td>\n",
       "      <td>Seni</td>\n",
       "      <td>False</td>\n",
       "      <td>4</td>\n",
       "      <td>FIKOM</td>\n",
       "    </tr>\n",
       "    <tr>\n",
       "      <th>2</th>\n",
       "      <td>Abbey Dubois</td>\n",
       "      <td>Wanita</td>\n",
       "      <td>Sendiri</td>\n",
       "      <td>True</td>\n",
       "      <td>Beasiswa</td>\n",
       "      <td>2008</td>\n",
       "      <td>Serang</td>\n",
       "      <td>Keilmuan</td>\n",
       "      <td>False</td>\n",
       "      <td>4.5</td>\n",
       "      <td>FIKOM</td>\n",
       "    </tr>\n",
       "    <tr>\n",
       "      <th>3</th>\n",
       "      <td>Abbey Gosling</td>\n",
       "      <td>Wanita</td>\n",
       "      <td>Orang Tua</td>\n",
       "      <td>False</td>\n",
       "      <td>Beasiswa</td>\n",
       "      <td>2009</td>\n",
       "      <td>Serang</td>\n",
       "      <td>Olahraga</td>\n",
       "      <td>False</td>\n",
       "      <td>5.5</td>\n",
       "      <td>DKV</td>\n",
       "    </tr>\n",
       "    <tr>\n",
       "      <th>4</th>\n",
       "      <td>Abbey Logan</td>\n",
       "      <td>Wanita</td>\n",
       "      <td>Orang Tua</td>\n",
       "      <td>True</td>\n",
       "      <td>Mandiri</td>\n",
       "      <td>2009</td>\n",
       "      <td>Bekasi</td>\n",
       "      <td>Tidak</td>\n",
       "      <td>True</td>\n",
       "      <td>6.5</td>\n",
       "      <td>DKV</td>\n",
       "    </tr>\n",
       "  </tbody>\n",
       "</table>\n",
       "</div>"
      ],
      "text/plain": [
       "              Nama  Gender Tinggal_Dengan Status_Kerja     Biaya  \\\n",
       "0     Abbey Butler    Pria            Kos        False  Beasiswa   \n",
       "1  Abbey Carpenter  Wanita        Sendiri        False   Mandiri   \n",
       "2     Abbey Dubois  Wanita        Sendiri         True  Beasiswa   \n",
       "3    Abbey Gosling  Wanita      Orang Tua        False  Beasiswa   \n",
       "4      Abbey Logan  Wanita      Orang Tua         True   Mandiri   \n",
       "\n",
       "   Tgl_Daftar_Kuliah     Alamat            UKM Organisasi_Kampus Lama_Kuliah  \\\n",
       "0               2008  Tangerang  Kewirausahaan              True         3.5   \n",
       "1               2009     Bekasi           Seni             False           4   \n",
       "2               2008     Serang       Keilmuan             False         4.5   \n",
       "3               2009     Serang       Olahraga             False         5.5   \n",
       "4               2009     Bekasi          Tidak              True         6.5   \n",
       "\n",
       "  Fakultas  \n",
       "0      DKV  \n",
       "1    FIKOM  \n",
       "2    FIKOM  \n",
       "3      DKV  \n",
       "4      DKV  "
      ]
     },
     "execution_count": 73,
     "metadata": {},
     "output_type": "execute_result"
    }
   ],
   "source": [
    "df.head()"
   ]
  },
  {
   "cell_type": "code",
   "execution_count": 12,
   "metadata": {},
   "outputs": [
    {
     "name": "stdout",
     "output_type": "stream",
     "text": [
      "Nama:\n",
      "['Abbey Butler' 'Abbey Carpenter' 'Abbey Dubois' ... 'Zoe Ogilvy'\n",
      " 'Zoe Thompson' 'Zoe Varndell']\n",
      "\n",
      "Gender:\n",
      "['Pria' 'Wanita']\n",
      "\n",
      "Tinggal_Dengan:\n",
      "['Kos' 'Sendiri' 'Orang Tua']\n",
      "\n",
      "Status_Kerja:\n",
      "[False True]\n",
      "\n",
      "Biaya:\n",
      "['Beasiswa' 'Mandiri' 'Orang Tua']\n",
      "\n",
      "Tgl_Daftar_Kuliah:\n",
      "[2008 2009 2007]\n",
      "\n",
      "Alamat:\n",
      "['Tangerang' 'Bekasi' 'Serang' 'Bogor' 'Jakarta' 'Karawang']\n",
      "\n",
      "UKM:\n",
      "['UKM_3' 'UKM_2' 'UKM_4' 'UKM_1' 'Tidak']\n",
      "\n",
      "Organisasi_Kampus:\n",
      "[True False]\n",
      "\n",
      "Lama_Kuliah:\n",
      "[3.5 4.0 4.5 5.5 6.5 5.0 6.0 7.0]\n",
      "\n",
      "Fakultas:\n",
      "['DKV' 'FIKOM' 'FISIP' 'FTI' 'FT']\n",
      "\n"
     ]
    }
   ],
   "source": [
    "for label in df:\n",
    "    print(label + ':')\n",
    "    print(df[label].unique())\n",
    "    print()"
   ]
  },
  {
   "cell_type": "markdown",
   "metadata": {},
   "source": [
    "## Changing Data Types"
   ]
  },
  {
   "cell_type": "code",
   "execution_count": 12,
   "metadata": {},
   "outputs": [
    {
     "name": "stdout",
     "output_type": "stream",
     "text": [
      "<class 'pandas.core.frame.DataFrame'>\n",
      "RangeIndex: 11499 entries, 0 to 11498\n",
      "Data columns (total 11 columns):\n",
      " #   Column             Non-Null Count  Dtype  \n",
      "---  ------             --------------  -----  \n",
      " 0   Nama               11499 non-null  object \n",
      " 1   Gender             11499 non-null  object \n",
      " 2   Tinggal_Dengan     11499 non-null  object \n",
      " 3   Status_Kerja       11499 non-null  bool   \n",
      " 4   Biaya              11499 non-null  object \n",
      " 5   Tgl_Daftar_Kuliah  11499 non-null  int64  \n",
      " 6   Alamat             11499 non-null  object \n",
      " 7   UKM                11499 non-null  object \n",
      " 8   Organisasi_Kampus  11499 non-null  bool   \n",
      " 9   Lama_Kuliah        11499 non-null  float64\n",
      " 10  Fakultas           11499 non-null  object \n",
      "dtypes: bool(2), float64(1), int64(1), object(7)\n",
      "memory usage: 831.1+ KB\n"
     ]
    }
   ],
   "source": [
    "df = df.astype({'Status_Kerja': 'bool', 'Organisasi_Kampus': 'bool', 'Lama_Kuliah': 'float64'})\n",
    "df.info()"
   ]
  },
  {
   "cell_type": "markdown",
   "metadata": {},
   "source": [
    "# EDA"
   ]
  },
  {
   "cell_type": "code",
   "execution_count": 13,
   "metadata": {},
   "outputs": [
    {
     "data": {
      "text/plain": [
       "<AxesSubplot:xlabel='Lama_Kuliah', ylabel='count'>"
      ]
     },
     "execution_count": 13,
     "metadata": {},
     "output_type": "execute_result"
    },
    {
     "data": {
      "image/png": "[encoded data removed]",
      "text/plain": [
       "<Figure size 432x288 with 1 Axes>"
      ]
     },
     "metadata": {
      "needs_background": "light"
     },
     "output_type": "display_data"
    }
   ],
   "source": [
    "sns.countplot(data=df, x='Lama_Kuliah', hue='Gender')"
   ]
  },
  {
   "cell_type": "code",
   "execution_count": 14,
   "metadata": {},
   "outputs": [
    {
     "data": {
      "text/plain": [
       "Index(['Nama', 'Gender', 'Tinggal_Dengan', 'Status_Kerja', 'Biaya',\n",
       "       'Tgl_Daftar_Kuliah', 'Alamat', 'UKM', 'Organisasi_Kampus',\n",
       "       'Lama_Kuliah', 'Fakultas'],\n",
       "      dtype='object')"
      ]
     },
     "execution_count": 14,
     "metadata": {},
     "output_type": "execute_result"
    }
   ],
   "source": [
    "df.columns"
   ]
  },
  {
   "cell_type": "code",
   "execution_count": 15,
   "metadata": {},
   "outputs": [
    {
     "data": {
      "image/png": "[encoded data removed]",
      "text/plain": [
       "<Figure size 1080x1080 with 9 Axes>"
      ]
     },
     "metadata": {
      "needs_background": "light"
     },
     "output_type": "display_data"
    }
   ],
   "source": [
    "cols = ['Gender', 'Tinggal_Dengan', 'Status_Kerja', 'Biaya', 'Tgl_Daftar_Kuliah', \n",
    "        'Alamat', 'UKM', 'Organisasi_Kampus', 'Fakultas']\n",
    "\n",
    "plt.figure(figsize=(15,15))\n",
    "for i, col  in enumerate(cols):\n",
    "    plt.subplot(3,3,i+1)\n",
    "    sns.countplot(data=df, x=col)"
   ]
  },
  {
   "cell_type": "code",
   "execution_count": 16,
   "metadata": {},
   "outputs": [
    {
     "data": {
      "image/png": "[encoded data removed]",
      "text/plain": [
       "<Figure size 1080x1080 with 9 Axes>"
      ]
     },
     "metadata": {
      "needs_background": "light"
     },
     "output_type": "display_data"
    }
   ],
   "source": [
    "cols = ['Gender', 'Tinggal_Dengan', 'Status_Kerja', 'Biaya', 'Tgl_Daftar_Kuliah', \n",
    "        'Alamat', 'UKM', 'Organisasi_Kampus', 'Fakultas']\n",
    "\n",
    "plt.figure(figsize=(15,15))\n",
    "for i, col  in enumerate(cols):\n",
    "    plt.subplot(3,3,i+1)\n",
    "    sns.countplot(data=df, x='Lama_Kuliah', hue=col)"
   ]
  },
  {
   "cell_type": "code",
   "execution_count": 75,
   "metadata": {},
   "outputs": [
    {
     "data": {
      "text/html": [
       "<div>\n",
       "<style scoped>\n",
       "    .dataframe tbody tr th:only-of-type {\n",
       "        vertical-align: middle;\n",
       "    }\n",
       "\n",
       "    .dataframe tbody tr th {\n",
       "        vertical-align: top;\n",
       "    }\n",
       "\n",
       "    .dataframe thead th {\n",
       "        text-align: right;\n",
       "    }\n",
       "</style>\n",
       "<table border=\"1\" class=\"dataframe\">\n",
       "  <thead>\n",
       "    <tr style=\"text-align: right;\">\n",
       "      <th></th>\n",
       "      <th>Nama</th>\n",
       "      <th>Gender</th>\n",
       "      <th>Tinggal_Dengan</th>\n",
       "      <th>Status_Kerja</th>\n",
       "      <th>Biaya</th>\n",
       "      <th>Tgl_Daftar_Kuliah</th>\n",
       "      <th>Alamat</th>\n",
       "      <th>UKM</th>\n",
       "      <th>Organisasi_Kampus</th>\n",
       "      <th>Lama_Kuliah</th>\n",
       "      <th>Fakultas</th>\n",
       "      <th>Jenis_Kelulusan</th>\n",
       "    </tr>\n",
       "  </thead>\n",
       "  <tbody>\n",
       "    <tr>\n",
       "      <th>0</th>\n",
       "      <td>Abbey Butler</td>\n",
       "      <td>Pria</td>\n",
       "      <td>Kos</td>\n",
       "      <td>False</td>\n",
       "      <td>Beasiswa</td>\n",
       "      <td>2008</td>\n",
       "      <td>Tangerang</td>\n",
       "      <td>Kewirausahaan</td>\n",
       "      <td>True</td>\n",
       "      <td>3.5</td>\n",
       "      <td>DKV</td>\n",
       "      <td>Cepat</td>\n",
       "    </tr>\n",
       "    <tr>\n",
       "      <th>1</th>\n",
       "      <td>Abbey Carpenter</td>\n",
       "      <td>Wanita</td>\n",
       "      <td>Sendiri</td>\n",
       "      <td>False</td>\n",
       "      <td>Mandiri</td>\n",
       "      <td>2009</td>\n",
       "      <td>Bekasi</td>\n",
       "      <td>Seni</td>\n",
       "      <td>False</td>\n",
       "      <td>4</td>\n",
       "      <td>FIKOM</td>\n",
       "      <td>Tepat Waktu</td>\n",
       "    </tr>\n",
       "    <tr>\n",
       "      <th>2</th>\n",
       "      <td>Abbey Dubois</td>\n",
       "      <td>Wanita</td>\n",
       "      <td>Sendiri</td>\n",
       "      <td>True</td>\n",
       "      <td>Beasiswa</td>\n",
       "      <td>2008</td>\n",
       "      <td>Serang</td>\n",
       "      <td>Keilmuan</td>\n",
       "      <td>False</td>\n",
       "      <td>4.5</td>\n",
       "      <td>FIKOM</td>\n",
       "      <td>Telat</td>\n",
       "    </tr>\n",
       "    <tr>\n",
       "      <th>3</th>\n",
       "      <td>Abbey Gosling</td>\n",
       "      <td>Wanita</td>\n",
       "      <td>Orang Tua</td>\n",
       "      <td>False</td>\n",
       "      <td>Beasiswa</td>\n",
       "      <td>2009</td>\n",
       "      <td>Serang</td>\n",
       "      <td>Olahraga</td>\n",
       "      <td>False</td>\n",
       "      <td>5.5</td>\n",
       "      <td>DKV</td>\n",
       "      <td>Telat</td>\n",
       "    </tr>\n",
       "    <tr>\n",
       "      <th>4</th>\n",
       "      <td>Abbey Logan</td>\n",
       "      <td>Wanita</td>\n",
       "      <td>Orang Tua</td>\n",
       "      <td>True</td>\n",
       "      <td>Mandiri</td>\n",
       "      <td>2009</td>\n",
       "      <td>Bekasi</td>\n",
       "      <td>Tidak</td>\n",
       "      <td>True</td>\n",
       "      <td>6.5</td>\n",
       "      <td>DKV</td>\n",
       "      <td>Telat</td>\n",
       "    </tr>\n",
       "  </tbody>\n",
       "</table>\n",
       "</div>"
      ],
      "text/plain": [
       "              Nama  Gender Tinggal_Dengan Status_Kerja     Biaya  \\\n",
       "0     Abbey Butler    Pria            Kos        False  Beasiswa   \n",
       "1  Abbey Carpenter  Wanita        Sendiri        False   Mandiri   \n",
       "2     Abbey Dubois  Wanita        Sendiri         True  Beasiswa   \n",
       "3    Abbey Gosling  Wanita      Orang Tua        False  Beasiswa   \n",
       "4      Abbey Logan  Wanita      Orang Tua         True   Mandiri   \n",
       "\n",
       "   Tgl_Daftar_Kuliah     Alamat            UKM Organisasi_Kampus Lama_Kuliah  \\\n",
       "0               2008  Tangerang  Kewirausahaan              True         3.5   \n",
       "1               2009     Bekasi           Seni             False           4   \n",
       "2               2008     Serang       Keilmuan             False         4.5   \n",
       "3               2009     Serang       Olahraga             False         5.5   \n",
       "4               2009     Bekasi          Tidak              True         6.5   \n",
       "\n",
       "  Fakultas Jenis_Kelulusan  \n",
       "0      DKV           Cepat  \n",
       "1    FIKOM     Tepat Waktu  \n",
       "2    FIKOM           Telat  \n",
       "3      DKV           Telat  \n",
       "4      DKV           Telat  "
      ]
     },
     "execution_count": 75,
     "metadata": {},
     "output_type": "execute_result"
    }
   ],
   "source": [
    "df['Jenis_Kelulusan'] = ['Cepat' if df.loc[i, 'Lama_Kuliah'] == 3.5 else 'Tepat Waktu' if df.loc[i, 'Lama_Kuliah'] ==  4 else 'Telat' for i in range(len(df['Lama_Kuliah']))]\n",
    "df.head()"
   ]
  },
  {
   "cell_type": "code",
   "execution_count": 27,
   "metadata": {},
   "outputs": [
    {
     "name": "stdout",
     "output_type": "stream",
     "text": [
      "<class 'pandas.core.frame.DataFrame'>\n",
      "RangeIndex: 11499 entries, 0 to 11498\n",
      "Data columns (total 12 columns):\n",
      " #   Column             Non-Null Count  Dtype  \n",
      "---  ------             --------------  -----  \n",
      " 0   Nama               11499 non-null  object \n",
      " 1   Gender             11499 non-null  object \n",
      " 2   Tinggal_Dengan     11499 non-null  object \n",
      " 3   Status_Kerja       11499 non-null  bool   \n",
      " 4   Biaya              11499 non-null  object \n",
      " 5   Tgl_Daftar_Kuliah  11499 non-null  int64  \n",
      " 6   Alamat             11499 non-null  object \n",
      " 7   UKM                11499 non-null  object \n",
      " 8   Organisasi_Kampus  11499 non-null  bool   \n",
      " 9   Lama_Kuliah        11499 non-null  float64\n",
      " 10  Fakultas           11499 non-null  object \n",
      " 11  Lulus_Tepat_Waktu  11499 non-null  bool   \n",
      "dtypes: bool(3), float64(1), int64(1), object(7)\n",
      "memory usage: 842.3+ KB\n"
     ]
    }
   ],
   "source": [
    "df.info()"
   ]
  },
  {
   "cell_type": "code",
   "execution_count": 28,
   "metadata": {},
   "outputs": [
    {
     "data": {
      "text/plain": [
       "Alamat\n",
       "Bekasi       1921\n",
       "Bogor        1949\n",
       "Jakarta      1839\n",
       "Karawang     1912\n",
       "Serang       1941\n",
       "Tangerang    1937\n",
       "Name: Lulus_Tepat_Waktu, dtype: int64"
      ]
     },
     "execution_count": 28,
     "metadata": {},
     "output_type": "execute_result"
    }
   ],
   "source": [
    "alamat_grouped_df = df.groupby('Alamat')['Lulus_Tepat_Waktu'].count()\n",
    "alamat_grouped_df\n"
   ]
  },
  {
   "cell_type": "markdown",
   "metadata": {},
   "source": [
    "## Data Preparation"
   ]
  },
  {
   "cell_type": "markdown",
   "metadata": {},
   "source": [
    "### One-Hot Encoding"
   ]
  },
  {
   "cell_type": "markdown",
   "metadata": {},
   "source": [
    "Gender"
   ]
  },
  {
   "cell_type": "code",
   "execution_count": 106,
   "metadata": {},
   "outputs": [],
   "source": [
    "gender = pd.get_dummies(df.Gender, prefix='Gender')"
   ]
  },
  {
   "cell_type": "markdown",
   "metadata": {},
   "source": [
    "Label UKM"
   ]
  },
  {
   "cell_type": "code",
   "execution_count": 116,
   "metadata": {},
   "outputs": [],
   "source": [
    "ukm = pd.get_dummies(df.UKM)"
   ]
  },
  {
   "cell_type": "code",
   "execution_count": 117,
   "metadata": {},
   "outputs": [
    {
     "data": {
      "text/html": [
       "<div>\n",
       "<style scoped>\n",
       "    .dataframe tbody tr th:only-of-type {\n",
       "        vertical-align: middle;\n",
       "    }\n",
       "\n",
       "    .dataframe tbody tr th {\n",
       "        vertical-align: top;\n",
       "    }\n",
       "\n",
       "    .dataframe thead th {\n",
       "        text-align: right;\n",
       "    }\n",
       "</style>\n",
       "<table border=\"1\" class=\"dataframe\">\n",
       "  <thead>\n",
       "    <tr style=\"text-align: right;\">\n",
       "      <th></th>\n",
       "      <th>Tidak</th>\n",
       "      <th>UKM_1</th>\n",
       "      <th>UKM_2</th>\n",
       "      <th>UKM_3</th>\n",
       "      <th>UKM_4</th>\n",
       "    </tr>\n",
       "  </thead>\n",
       "  <tbody>\n",
       "    <tr>\n",
       "      <th>0</th>\n",
       "      <td>0</td>\n",
       "      <td>0</td>\n",
       "      <td>0</td>\n",
       "      <td>1</td>\n",
       "      <td>0</td>\n",
       "    </tr>\n",
       "    <tr>\n",
       "      <th>1</th>\n",
       "      <td>0</td>\n",
       "      <td>0</td>\n",
       "      <td>1</td>\n",
       "      <td>0</td>\n",
       "      <td>0</td>\n",
       "    </tr>\n",
       "    <tr>\n",
       "      <th>2</th>\n",
       "      <td>0</td>\n",
       "      <td>0</td>\n",
       "      <td>0</td>\n",
       "      <td>0</td>\n",
       "      <td>1</td>\n",
       "    </tr>\n",
       "    <tr>\n",
       "      <th>3</th>\n",
       "      <td>0</td>\n",
       "      <td>1</td>\n",
       "      <td>0</td>\n",
       "      <td>0</td>\n",
       "      <td>0</td>\n",
       "    </tr>\n",
       "    <tr>\n",
       "      <th>4</th>\n",
       "      <td>1</td>\n",
       "      <td>0</td>\n",
       "      <td>0</td>\n",
       "      <td>0</td>\n",
       "      <td>0</td>\n",
       "    </tr>\n",
       "  </tbody>\n",
       "</table>\n",
       "</div>"
      ],
      "text/plain": [
       "   Tidak  UKM_1  UKM_2  UKM_3  UKM_4\n",
       "0      0      0      0      1      0\n",
       "1      0      0      1      0      0\n",
       "2      0      0      0      0      1\n",
       "3      0      1      0      0      0\n",
       "4      1      0      0      0      0"
      ]
     },
     "execution_count": 117,
     "metadata": {},
     "output_type": "execute_result"
    }
   ],
   "source": [
    "ukm.head()"
   ]
  },
  {
   "cell_type": "markdown",
   "metadata": {},
   "source": [
    "Label Fakultas"
   ]
  },
  {
   "cell_type": "code",
   "execution_count": 108,
   "metadata": {},
   "outputs": [],
   "source": [
    "fak = pd.get_dummies(df.Fakultas, prefix='Fakultas')"
   ]
  },
  {
   "cell_type": "code",
   "execution_count": 118,
   "metadata": {},
   "outputs": [
    {
     "data": {
      "text/html": [
       "<div>\n",
       "<style scoped>\n",
       "    .dataframe tbody tr th:only-of-type {\n",
       "        vertical-align: middle;\n",
       "    }\n",
       "\n",
       "    .dataframe tbody tr th {\n",
       "        vertical-align: top;\n",
       "    }\n",
       "\n",
       "    .dataframe thead th {\n",
       "        text-align: right;\n",
       "    }\n",
       "</style>\n",
       "<table border=\"1\" class=\"dataframe\">\n",
       "  <thead>\n",
       "    <tr style=\"text-align: right;\">\n",
       "      <th></th>\n",
       "      <th>Fakultas_DKV</th>\n",
       "      <th>Fakultas_FIKOM</th>\n",
       "      <th>Fakultas_FISIP</th>\n",
       "      <th>Fakultas_FT</th>\n",
       "      <th>Fakultas_FTI</th>\n",
       "    </tr>\n",
       "  </thead>\n",
       "  <tbody>\n",
       "    <tr>\n",
       "      <th>0</th>\n",
       "      <td>1</td>\n",
       "      <td>0</td>\n",
       "      <td>0</td>\n",
       "      <td>0</td>\n",
       "      <td>0</td>\n",
       "    </tr>\n",
       "    <tr>\n",
       "      <th>1</th>\n",
       "      <td>0</td>\n",
       "      <td>1</td>\n",
       "      <td>0</td>\n",
       "      <td>0</td>\n",
       "      <td>0</td>\n",
       "    </tr>\n",
       "    <tr>\n",
       "      <th>2</th>\n",
       "      <td>0</td>\n",
       "      <td>1</td>\n",
       "      <td>0</td>\n",
       "      <td>0</td>\n",
       "      <td>0</td>\n",
       "    </tr>\n",
       "    <tr>\n",
       "      <th>3</th>\n",
       "      <td>1</td>\n",
       "      <td>0</td>\n",
       "      <td>0</td>\n",
       "      <td>0</td>\n",
       "      <td>0</td>\n",
       "    </tr>\n",
       "    <tr>\n",
       "      <th>4</th>\n",
       "      <td>1</td>\n",
       "      <td>0</td>\n",
       "      <td>0</td>\n",
       "      <td>0</td>\n",
       "      <td>0</td>\n",
       "    </tr>\n",
       "  </tbody>\n",
       "</table>\n",
       "</div>"
      ],
      "text/plain": [
       "   Fakultas_DKV  Fakultas_FIKOM  Fakultas_FISIP  Fakultas_FT  Fakultas_FTI\n",
       "0             1               0               0            0             0\n",
       "1             0               1               0            0             0\n",
       "2             0               1               0            0             0\n",
       "3             1               0               0            0             0\n",
       "4             1               0               0            0             0"
      ]
     },
     "execution_count": 118,
     "metadata": {},
     "output_type": "execute_result"
    }
   ],
   "source": [
    "fak.head()"
   ]
  },
  {
   "cell_type": "markdown",
   "metadata": {},
   "source": [
    "Alamat"
   ]
  },
  {
   "cell_type": "code",
   "execution_count": 109,
   "metadata": {},
   "outputs": [],
   "source": [
    "alamat = pd.get_dummies(df.Alamat, prefix='Alamat')"
   ]
  },
  {
   "cell_type": "code",
   "execution_count": 119,
   "metadata": {},
   "outputs": [
    {
     "data": {
      "text/html": [
       "<div>\n",
       "<style scoped>\n",
       "    .dataframe tbody tr th:only-of-type {\n",
       "        vertical-align: middle;\n",
       "    }\n",
       "\n",
       "    .dataframe tbody tr th {\n",
       "        vertical-align: top;\n",
       "    }\n",
       "\n",
       "    .dataframe thead th {\n",
       "        text-align: right;\n",
       "    }\n",
       "</style>\n",
       "<table border=\"1\" class=\"dataframe\">\n",
       "  <thead>\n",
       "    <tr style=\"text-align: right;\">\n",
       "      <th></th>\n",
       "      <th>Alamat_Bekasi</th>\n",
       "      <th>Alamat_Bogor</th>\n",
       "      <th>Alamat_Jakarta</th>\n",
       "      <th>Alamat_Karawang</th>\n",
       "      <th>Alamat_Serang</th>\n",
       "      <th>Alamat_Tangerang</th>\n",
       "    </tr>\n",
       "  </thead>\n",
       "  <tbody>\n",
       "    <tr>\n",
       "      <th>0</th>\n",
       "      <td>0</td>\n",
       "      <td>0</td>\n",
       "      <td>0</td>\n",
       "      <td>0</td>\n",
       "      <td>0</td>\n",
       "      <td>1</td>\n",
       "    </tr>\n",
       "    <tr>\n",
       "      <th>1</th>\n",
       "      <td>1</td>\n",
       "      <td>0</td>\n",
       "      <td>0</td>\n",
       "      <td>0</td>\n",
       "      <td>0</td>\n",
       "      <td>0</td>\n",
       "    </tr>\n",
       "    <tr>\n",
       "      <th>2</th>\n",
       "      <td>0</td>\n",
       "      <td>0</td>\n",
       "      <td>0</td>\n",
       "      <td>0</td>\n",
       "      <td>1</td>\n",
       "      <td>0</td>\n",
       "    </tr>\n",
       "    <tr>\n",
       "      <th>3</th>\n",
       "      <td>0</td>\n",
       "      <td>0</td>\n",
       "      <td>0</td>\n",
       "      <td>0</td>\n",
       "      <td>1</td>\n",
       "      <td>0</td>\n",
       "    </tr>\n",
       "    <tr>\n",
       "      <th>4</th>\n",
       "      <td>1</td>\n",
       "      <td>0</td>\n",
       "      <td>0</td>\n",
       "      <td>0</td>\n",
       "      <td>0</td>\n",
       "      <td>0</td>\n",
       "    </tr>\n",
       "  </tbody>\n",
       "</table>\n",
       "</div>"
      ],
      "text/plain": [
       "   Alamat_Bekasi  Alamat_Bogor  Alamat_Jakarta  Alamat_Karawang  \\\n",
       "0              0             0               0                0   \n",
       "1              1             0               0                0   \n",
       "2              0             0               0                0   \n",
       "3              0             0               0                0   \n",
       "4              1             0               0                0   \n",
       "\n",
       "   Alamat_Serang  Alamat_Tangerang  \n",
       "0              0                 1  \n",
       "1              0                 0  \n",
       "2              1                 0  \n",
       "3              1                 0  \n",
       "4              0                 0  "
      ]
     },
     "execution_count": 119,
     "metadata": {},
     "output_type": "execute_result"
    }
   ],
   "source": [
    "alamat.head()"
   ]
  },
  {
   "cell_type": "markdown",
   "metadata": {},
   "source": [
    "Combining Row"
   ]
  },
  {
   "cell_type": "code",
   "execution_count": 120,
   "metadata": {},
   "outputs": [],
   "source": [
    "encoding = pd.concat([gender, ukm, fak, alamat], axis=1, join='inner')"
   ]
  },
  {
   "cell_type": "code",
   "execution_count": 121,
   "metadata": {},
   "outputs": [
    {
     "data": {
      "text/html": [
       "<div>\n",
       "<style scoped>\n",
       "    .dataframe tbody tr th:only-of-type {\n",
       "        vertical-align: middle;\n",
       "    }\n",
       "\n",
       "    .dataframe tbody tr th {\n",
       "        vertical-align: top;\n",
       "    }\n",
       "\n",
       "    .dataframe thead th {\n",
       "        text-align: right;\n",
       "    }\n",
       "</style>\n",
       "<table border=\"1\" class=\"dataframe\">\n",
       "  <thead>\n",
       "    <tr style=\"text-align: right;\">\n",
       "      <th></th>\n",
       "      <th>Gender_Pria</th>\n",
       "      <th>Gender_Wanita</th>\n",
       "      <th>Tidak</th>\n",
       "      <th>UKM_1</th>\n",
       "      <th>UKM_2</th>\n",
       "      <th>UKM_3</th>\n",
       "      <th>UKM_4</th>\n",
       "      <th>Fakultas_DKV</th>\n",
       "      <th>Fakultas_FIKOM</th>\n",
       "      <th>Fakultas_FISIP</th>\n",
       "      <th>Fakultas_FT</th>\n",
       "      <th>Fakultas_FTI</th>\n",
       "      <th>Alamat_Bekasi</th>\n",
       "      <th>Alamat_Bogor</th>\n",
       "      <th>Alamat_Jakarta</th>\n",
       "      <th>Alamat_Karawang</th>\n",
       "      <th>Alamat_Serang</th>\n",
       "      <th>Alamat_Tangerang</th>\n",
       "    </tr>\n",
       "  </thead>\n",
       "  <tbody>\n",
       "    <tr>\n",
       "      <th>0</th>\n",
       "      <td>1</td>\n",
       "      <td>0</td>\n",
       "      <td>0</td>\n",
       "      <td>0</td>\n",
       "      <td>0</td>\n",
       "      <td>1</td>\n",
       "      <td>0</td>\n",
       "      <td>1</td>\n",
       "      <td>0</td>\n",
       "      <td>0</td>\n",
       "      <td>0</td>\n",
       "      <td>0</td>\n",
       "      <td>0</td>\n",
       "      <td>0</td>\n",
       "      <td>0</td>\n",
       "      <td>0</td>\n",
       "      <td>0</td>\n",
       "      <td>1</td>\n",
       "    </tr>\n",
       "    <tr>\n",
       "      <th>1</th>\n",
       "      <td>0</td>\n",
       "      <td>1</td>\n",
       "      <td>0</td>\n",
       "      <td>0</td>\n",
       "      <td>1</td>\n",
       "      <td>0</td>\n",
       "      <td>0</td>\n",
       "      <td>0</td>\n",
       "      <td>1</td>\n",
       "      <td>0</td>\n",
       "      <td>0</td>\n",
       "      <td>0</td>\n",
       "      <td>1</td>\n",
       "      <td>0</td>\n",
       "      <td>0</td>\n",
       "      <td>0</td>\n",
       "      <td>0</td>\n",
       "      <td>0</td>\n",
       "    </tr>\n",
       "    <tr>\n",
       "      <th>2</th>\n",
       "      <td>0</td>\n",
       "      <td>1</td>\n",
       "      <td>0</td>\n",
       "      <td>0</td>\n",
       "      <td>0</td>\n",
       "      <td>0</td>\n",
       "      <td>1</td>\n",
       "      <td>0</td>\n",
       "      <td>1</td>\n",
       "      <td>0</td>\n",
       "      <td>0</td>\n",
       "      <td>0</td>\n",
       "      <td>0</td>\n",
       "      <td>0</td>\n",
       "      <td>0</td>\n",
       "      <td>0</td>\n",
       "      <td>1</td>\n",
       "      <td>0</td>\n",
       "    </tr>\n",
       "    <tr>\n",
       "      <th>3</th>\n",
       "      <td>0</td>\n",
       "      <td>1</td>\n",
       "      <td>0</td>\n",
       "      <td>1</td>\n",
       "      <td>0</td>\n",
       "      <td>0</td>\n",
       "      <td>0</td>\n",
       "      <td>1</td>\n",
       "      <td>0</td>\n",
       "      <td>0</td>\n",
       "      <td>0</td>\n",
       "      <td>0</td>\n",
       "      <td>0</td>\n",
       "      <td>0</td>\n",
       "      <td>0</td>\n",
       "      <td>0</td>\n",
       "      <td>1</td>\n",
       "      <td>0</td>\n",
       "    </tr>\n",
       "    <tr>\n",
       "      <th>4</th>\n",
       "      <td>0</td>\n",
       "      <td>1</td>\n",
       "      <td>1</td>\n",
       "      <td>0</td>\n",
       "      <td>0</td>\n",
       "      <td>0</td>\n",
       "      <td>0</td>\n",
       "      <td>1</td>\n",
       "      <td>0</td>\n",
       "      <td>0</td>\n",
       "      <td>0</td>\n",
       "      <td>0</td>\n",
       "      <td>1</td>\n",
       "      <td>0</td>\n",
       "      <td>0</td>\n",
       "      <td>0</td>\n",
       "      <td>0</td>\n",
       "      <td>0</td>\n",
       "    </tr>\n",
       "  </tbody>\n",
       "</table>\n",
       "</div>"
      ],
      "text/plain": [
       "   Gender_Pria  Gender_Wanita  Tidak  UKM_1  UKM_2  UKM_3  UKM_4  \\\n",
       "0            1              0      0      0      0      1      0   \n",
       "1            0              1      0      0      1      0      0   \n",
       "2            0              1      0      0      0      0      1   \n",
       "3            0              1      0      1      0      0      0   \n",
       "4            0              1      1      0      0      0      0   \n",
       "\n",
       "   Fakultas_DKV  Fakultas_FIKOM  Fakultas_FISIP  Fakultas_FT  Fakultas_FTI  \\\n",
       "0             1               0               0            0             0   \n",
       "1             0               1               0            0             0   \n",
       "2             0               1               0            0             0   \n",
       "3             1               0               0            0             0   \n",
       "4             1               0               0            0             0   \n",
       "\n",
       "   Alamat_Bekasi  Alamat_Bogor  Alamat_Jakarta  Alamat_Karawang  \\\n",
       "0              0             0               0                0   \n",
       "1              1             0               0                0   \n",
       "2              0             0               0                0   \n",
       "3              0             0               0                0   \n",
       "4              1             0               0                0   \n",
       "\n",
       "   Alamat_Serang  Alamat_Tangerang  \n",
       "0              0                 1  \n",
       "1              0                 0  \n",
       "2              1                 0  \n",
       "3              1                 0  \n",
       "4              0                 0  "
      ]
     },
     "execution_count": 121,
     "metadata": {},
     "output_type": "execute_result"
    }
   ],
   "source": [
    "encoding.head()"
   ]
  },
  {
   "cell_type": "markdown",
   "metadata": {},
   "source": [
    "## EDA "
   ]
  }
 ],
 "metadata": {
  "kernelspec": {
   "display_name": "Python 3.9.0 64-bit (system)",
   "language": "python",
   "name": "python3"
  },
  "language_info": {
   "codemirror_mode": {
    "name": "ipython",
    "version": 3
   },
   "file_extension": ".py",
   "mimetype": "text/x-python",
   "name": "python",
   "nbconvert_exporter": "python",
   "pygments_lexer": "ipython3",
   "version": "3.9.0"
  },
  "orig_nbformat": 4,
  "vscode": {
   "interpreter": {
    "hash": "8f5816e6188795d1cc8afa4306b69c5e3a103f064a75e820fe776234e4cf83e8"
   }
  }
 },
 "nbformat": 4,
 "nbformat_minor": 2
}
